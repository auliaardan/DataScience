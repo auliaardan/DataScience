{
  "nbformat": 4,
  "nbformat_minor": 0,
  "metadata": {
    "colab": {
      "name": "Central Jakarta House",
      "provenance": [],
      "collapsed_sections": [],
      "authorship_tag": "ABX9TyMIDlMuekioTjg4XBEztRvg",
      "include_colab_link": true
    },
    "kernelspec": {
      "name": "python3",
      "display_name": "Python 3"
    },
    "language_info": {
      "name": "python"
    }
  },
  "cells": [
    {
      "cell_type": "markdown",
      "metadata": {
        "id": "view-in-github",
        "colab_type": "text"
      },
      "source": [
        "<a href=\"https://colab.research.google.com/github/auliaardan/DataScience/blob/main/Central_Jakarta_House.ipynb\" target=\"_parent\"><img src=\"https://colab.research.google.com/assets/colab-badge.svg\" alt=\"Open In Colab\"/></a>"
      ]
    },
    {
      "cell_type": "markdown",
      "metadata": {
        "id": "wiAD8clCu_4O"
      },
      "source": [
        "**Parse The Data**\n",
        "\n",
        "---\n",
        "\n"
      ]
    },
    {
      "cell_type": "code",
      "metadata": {
        "colab": {
          "base_uri": "https://localhost:8080/"
        },
        "id": "CrQgAUXtup8F",
        "outputId": "4cf32d89-8c1c-4242-d747-730c0743a1f7"
      },
      "source": [
        "#Import necessary library\n",
        "import numpy as np\n",
        "import matplotlib.pyplot as plt\n",
        "%matplotlib inline\n",
        "\n",
        "import requests as rq\n",
        "from bs4 import BeautifulSoup as BSP\n",
        "import time\n",
        "import math\n",
        "\n",
        "#import ML Linear Regression Modeler\n",
        "from sklearn.linear_model import LinearRegression\n",
        "from sklearn.preprocessing import StandardScaler\n",
        "from sklearn.model_selection import train_test_split\n",
        "\n",
        "#Variable to check evey page have been scraped\n",
        "scrapedAll = False\n",
        "locations = []\n",
        "prices = []\n",
        "luasTanahs = []\n",
        "errorcounts = 0\n",
        "scrapedRes = False\n",
        "\n",
        "#How long it took to parse all the data\n",
        "start = time.time()\n",
        "\n",
        "#Use while loop to scrape data from all the pages\n",
        "while not scrapedAll: \n",
        "#Scrape data from online house broker *LAMUDI\n",
        "#Central Jakarta\n",
        "    URL = \"https://www.lamudi.co.id/jakarta/jakarta-pusat/house/buy/?page=\"\n",
        "    #52 pages based from opening the website, put in For Loop\n",
        "    for pagenum in range(1,52):\n",
        "        page = rq.get(URL+str(pagenum))\n",
        "        soup = BSP(page.content, 'html.parser')\n",
        "        \n",
        "        #Parse data that have the locations, prices, and luastanah, based on inspecting the webpage\n",
        "        results = soup.find_all('div', class_=\"row ListingCell-row ListingCell-agent-redesign\")\n",
        "\n",
        "        for result in results:\n",
        "            #Extract the data\n",
        "            location = result.find('span', class_=\"ListingCell-KeyInfo-address-text\")\n",
        "            price = result.find('span', class_=\"PriceSection-FirstPrice\")\n",
        "            luasTanah = result.find('span', class_=\"KeyInformation-value_v2 KeyInformation-amenities-icon_v2 icon-land_size\")\n",
        "            \n",
        "            #Add Them to List, using error handling\n",
        "            #This method checks for each data, formats and finally append them to the list\n",
        "            try:\n",
        "                x = int(luasTanah.text.strip().strip('m²').strip())\n",
        "            except(AttributeError, ):\n",
        "                print(\"Attribute Error at luasTanahs \", len(luasTanahs))\n",
        "                errorcounts += 1\n",
        "                continue\n",
        "            else:\n",
        "                try:\n",
        "                    y = int(price.text.strip().replace('.','').strip('Rp').strip())\n",
        "                except(AttributeError, ):\n",
        "                    print(\"Attribute Error at prices \", len(prices))\n",
        "                    errorcounts += 1\n",
        "                    continue\n",
        "                else:\n",
        "                    try:\n",
        "                        z = location.text.strip().replace('\\n','').strip().strip()\n",
        "                    except(AttributeError, ):\n",
        "                        print(\"Attribute Error at locations in \", len(locations))\n",
        "                        errorcounts += 1\n",
        "                        continue\n",
        "                    else:\n",
        "                        luasTanahs.append(x)\n",
        "                        prices.append(y)\n",
        "                        locations.append(z)\n",
        "    end = time.time()\n",
        "    print('Finished scraping, took the computer', end-start,'seconds')\n",
        "    scrapedAll = True\n",
        "print()\n",
        "print('-'*20)    \n",
        "print()\n",
        "print('Jumlah rumah yang tidak ke-ekstrak', errorcounts)\n",
        "scaler = StandardScaler()"
      ],
      "execution_count": 1,
      "outputs": [
        {
          "output_type": "stream",
          "name": "stdout",
          "text": [
            "Attribute Error at luasTanahs  196\n",
            "Attribute Error at luasTanahs  333\n",
            "Attribute Error at luasTanahs  516\n",
            "Attribute Error at luasTanahs  866\n",
            "Attribute Error at prices  929\n",
            "Attribute Error at luasTanahs  1082\n",
            "Attribute Error at luasTanahs  1149\n",
            "Attribute Error at luasTanahs  1429\n",
            "Attribute Error at luasTanahs  1464\n",
            "Finished scraping, took the computer 46.810675859451294 seconds\n",
            "\n",
            "--------------------\n",
            "\n",
            "Jumlah rumah yang tidak ke-ekstrak 9\n"
          ]
        }
      ]
    },
    {
      "cell_type": "markdown",
      "metadata": {
        "id": "TdvmcCBVv7mt"
      },
      "source": [
        "**Inspect the data**\n",
        "\n",
        "\n",
        "---\n",
        "\n"
      ]
    },
    {
      "cell_type": "code",
      "metadata": {
        "id": "D3ZD4Qa6wB0K"
      },
      "source": [
        "#Import Pandas and Seaborn\n",
        "import pandas as pd\n",
        "import seaborn as sns"
      ],
      "execution_count": 2,
      "outputs": []
    },
    {
      "cell_type": "code",
      "metadata": {
        "id": "bjl037ZV0p7f"
      },
      "source": [
        "#put the list into a dict\n",
        "parsed_dict = { 'location' : locations, 'price': prices, 'land_size': luasTanahs }\n",
        "#convert into dataframe\n",
        "df = pd.DataFrame(parsed_dict)"
      ],
      "execution_count": 6,
      "outputs": []
    },
    {
      "cell_type": "code",
      "metadata": {
        "colab": {
          "base_uri": "https://localhost:8080/",
          "height": 206
        },
        "id": "I-rn7VKr1oqU",
        "outputId": "17f5268d-2f28-4425-c871-55cfe4accb98"
      },
      "source": [
        "df.head(5)"
      ],
      "execution_count": 7,
      "outputs": [
        {
          "output_type": "execute_result",
          "data": {
            "text/html": [
              "<div>\n",
              "<style scoped>\n",
              "    .dataframe tbody tr th:only-of-type {\n",
              "        vertical-align: middle;\n",
              "    }\n",
              "\n",
              "    .dataframe tbody tr th {\n",
              "        vertical-align: top;\n",
              "    }\n",
              "\n",
              "    .dataframe thead th {\n",
              "        text-align: right;\n",
              "    }\n",
              "</style>\n",
              "<table border=\"1\" class=\"dataframe\">\n",
              "  <thead>\n",
              "    <tr style=\"text-align: right;\">\n",
              "      <th></th>\n",
              "      <th>location</th>\n",
              "      <th>price</th>\n",
              "      <th>land_size</th>\n",
              "    </tr>\n",
              "  </thead>\n",
              "  <tbody>\n",
              "    <tr>\n",
              "      <th>0</th>\n",
              "      <td>Menteng, Jakarta Pusat</td>\n",
              "      <td>65000000000</td>\n",
              "      <td>813</td>\n",
              "    </tr>\n",
              "    <tr>\n",
              "      <th>1</th>\n",
              "      <td>Sawah Besar, Jakarta Pusat</td>\n",
              "      <td>1320000000</td>\n",
              "      <td>41</td>\n",
              "    </tr>\n",
              "    <tr>\n",
              "      <th>2</th>\n",
              "      <td>Senen, Jakarta Pusat</td>\n",
              "      <td>325000000</td>\n",
              "      <td>14</td>\n",
              "    </tr>\n",
              "    <tr>\n",
              "      <th>3</th>\n",
              "      <td>Kwitang, Jakarta Pusat</td>\n",
              "      <td>1195000000</td>\n",
              "      <td>45</td>\n",
              "    </tr>\n",
              "    <tr>\n",
              "      <th>4</th>\n",
              "      <td>Senen, Jakarta Pusat</td>\n",
              "      <td>755000000</td>\n",
              "      <td>22</td>\n",
              "    </tr>\n",
              "  </tbody>\n",
              "</table>\n",
              "</div>"
            ],
            "text/plain": [
              "                     location        price  land_size\n",
              "0      Menteng, Jakarta Pusat  65000000000        813\n",
              "1  Sawah Besar, Jakarta Pusat   1320000000         41\n",
              "2        Senen, Jakarta Pusat    325000000         14\n",
              "3      Kwitang, Jakarta Pusat   1195000000         45\n",
              "4        Senen, Jakarta Pusat    755000000         22"
            ]
          },
          "metadata": {},
          "execution_count": 7
        }
      ]
    },
    {
      "cell_type": "code",
      "metadata": {
        "colab": {
          "base_uri": "https://localhost:8080/"
        },
        "id": "25GFFW_E15eU",
        "outputId": "a8cbe8af-ab1e-42ac-dd9b-346960bf6baf"
      },
      "source": [
        "df.info()"
      ],
      "execution_count": 8,
      "outputs": [
        {
          "output_type": "stream",
          "name": "stdout",
          "text": [
            "<class 'pandas.core.frame.DataFrame'>\n",
            "RangeIndex: 1521 entries, 0 to 1520\n",
            "Data columns (total 3 columns):\n",
            " #   Column     Non-Null Count  Dtype \n",
            "---  ------     --------------  ----- \n",
            " 0   location   1521 non-null   object\n",
            " 1   price      1521 non-null   int64 \n",
            " 2   land_size  1521 non-null   int64 \n",
            "dtypes: int64(2), object(1)\n",
            "memory usage: 35.8+ KB\n"
          ]
        }
      ]
    },
    {
      "cell_type": "code",
      "metadata": {
        "colab": {
          "base_uri": "https://localhost:8080/",
          "height": 300
        },
        "id": "2VbgTiL02Do2",
        "outputId": "3d17ff32-5abf-49c6-d424-7b4126678e14"
      },
      "source": [
        "df.describe()"
      ],
      "execution_count": 9,
      "outputs": [
        {
          "output_type": "execute_result",
          "data": {
            "text/html": [
              "<div>\n",
              "<style scoped>\n",
              "    .dataframe tbody tr th:only-of-type {\n",
              "        vertical-align: middle;\n",
              "    }\n",
              "\n",
              "    .dataframe tbody tr th {\n",
              "        vertical-align: top;\n",
              "    }\n",
              "\n",
              "    .dataframe thead th {\n",
              "        text-align: right;\n",
              "    }\n",
              "</style>\n",
              "<table border=\"1\" class=\"dataframe\">\n",
              "  <thead>\n",
              "    <tr style=\"text-align: right;\">\n",
              "      <th></th>\n",
              "      <th>price</th>\n",
              "      <th>land_size</th>\n",
              "    </tr>\n",
              "  </thead>\n",
              "  <tbody>\n",
              "    <tr>\n",
              "      <th>count</th>\n",
              "      <td>1.521000e+03</td>\n",
              "      <td>1521.000000</td>\n",
              "    </tr>\n",
              "    <tr>\n",
              "      <th>mean</th>\n",
              "      <td>1.413061e+10</td>\n",
              "      <td>265.946746</td>\n",
              "    </tr>\n",
              "    <tr>\n",
              "      <th>std</th>\n",
              "      <td>2.583256e+10</td>\n",
              "      <td>281.273395</td>\n",
              "    </tr>\n",
              "    <tr>\n",
              "      <th>min</th>\n",
              "      <td>1.500000e+08</td>\n",
              "      <td>14.000000</td>\n",
              "    </tr>\n",
              "    <tr>\n",
              "      <th>25%</th>\n",
              "      <td>1.500000e+09</td>\n",
              "      <td>80.000000</td>\n",
              "    </tr>\n",
              "    <tr>\n",
              "      <th>50%</th>\n",
              "      <td>4.000000e+09</td>\n",
              "      <td>167.000000</td>\n",
              "    </tr>\n",
              "    <tr>\n",
              "      <th>75%</th>\n",
              "      <td>1.000000e+10</td>\n",
              "      <td>328.000000</td>\n",
              "    </tr>\n",
              "    <tr>\n",
              "      <th>max</th>\n",
              "      <td>2.750000e+11</td>\n",
              "      <td>2951.000000</td>\n",
              "    </tr>\n",
              "  </tbody>\n",
              "</table>\n",
              "</div>"
            ],
            "text/plain": [
              "              price    land_size\n",
              "count  1.521000e+03  1521.000000\n",
              "mean   1.413061e+10   265.946746\n",
              "std    2.583256e+10   281.273395\n",
              "min    1.500000e+08    14.000000\n",
              "25%    1.500000e+09    80.000000\n",
              "50%    4.000000e+09   167.000000\n",
              "75%    1.000000e+10   328.000000\n",
              "max    2.750000e+11  2951.000000"
            ]
          },
          "metadata": {},
          "execution_count": 9
        }
      ]
    },
    {
      "cell_type": "code",
      "metadata": {
        "colab": {
          "base_uri": "https://localhost:8080/",
          "height": 355
        },
        "id": "xEKKM6Jr4p3C",
        "outputId": "c3364bf3-8596-49eb-98cf-caa74a586c2a"
      },
      "source": [
        "sns.boxplot(df.land_size)"
      ],
      "execution_count": 12,
      "outputs": [
        {
          "output_type": "stream",
          "name": "stderr",
          "text": [
            "/usr/local/lib/python3.7/dist-packages/seaborn/_decorators.py:43: FutureWarning: Pass the following variable as a keyword arg: x. From version 0.12, the only valid positional argument will be `data`, and passing other arguments without an explicit keyword will result in an error or misinterpretation.\n",
            "  FutureWarning\n"
          ]
        },
        {
          "output_type": "execute_result",
          "data": {
            "text/plain": [
              "<matplotlib.axes._subplots.AxesSubplot at 0x7fc51e352210>"
            ]
          },
          "metadata": {},
          "execution_count": 12
        },
        {
          "output_type": "display_data",
          "data": {
            "image/png": "[encoded data removed]",
            "text/plain": [
              "<Figure size 432x288 with 1 Axes>"
            ]
          },
          "metadata": {
            "needs_background": "light"
          }
        }
      ]
    },
    {
      "cell_type": "code",
      "metadata": {
        "id": "TT2_z7Gm653B"
      },
      "source": [
        "#Compress and save dataframe into CSV\n",
        "compression_opts = dict(method='zip', archive_name='Central_Jakarta_House_Info.csv')  \n",
        "df.to_csv('Datasets.zip', index=False, compression=compression_opts)"
      ],
      "execution_count": 14,
      "outputs": []
    },
    {
      "cell_type": "markdown",
      "metadata": {
        "id": "U_8s2YL6vMUC"
      },
      "source": [
        "**Processing the Data**\n",
        "\n",
        "---\n",
        "\n"
      ]
    },
    {
      "cell_type": "code",
      "metadata": {
        "id": "RNaQ84l99320"
      },
      "source": [
        "#Import necessary packages\n",
        "from sklearn.svm import SVR"
      ],
      "execution_count": 15,
      "outputs": []
    },
    {
      "cell_type": "code",
      "metadata": {
        "id": "sdn60zbg-T4t"
      },
      "source": [
        "#Initialize SVR\n",
        "svr = SVR()"
      ],
      "execution_count": 16,
      "outputs": []
    },
    {
      "cell_type": "code",
      "metadata": {
        "id": "5mZUwrQm_M_N"
      },
      "source": [
        "#Split the datafile\n",
        "X = df[['land_size']]\n",
        "y = df[['price']]"
      ],
      "execution_count": 20,
      "outputs": []
    },
    {
      "cell_type": "code",
      "metadata": {
        "id": "iMCgwZlAAahH"
      },
      "source": [
        "#Prep for SVR\n",
        "X_train, X_test, y_train, y_test = train_test_split(X, y)"
      ],
      "execution_count": 22,
      "outputs": []
    },
    {
      "cell_type": "code",
      "metadata": {
        "colab": {
          "base_uri": "https://localhost:8080/"
        },
        "id": "N_qEbEvoAhCL",
        "outputId": "26daccc8-70f5-43ba-cd3b-3e5dd517ec46"
      },
      "source": [
        "svr.fit(X_train, y_train)"
      ],
      "execution_count": 23,
      "outputs": [
        {
          "output_type": "stream",
          "name": "stderr",
          "text": [
            "/usr/local/lib/python3.7/dist-packages/sklearn/utils/validation.py:760: DataConversionWarning: A column-vector y was passed when a 1d array was expected. Please change the shape of y to (n_samples, ), for example using ravel().\n",
            "  y = column_or_1d(y, warn=True)\n"
          ]
        },
        {
          "output_type": "execute_result",
          "data": {
            "text/plain": [
              "SVR(C=1.0, cache_size=200, coef0=0.0, degree=3, epsilon=0.1, gamma='scale',\n",
              "    kernel='rbf', max_iter=-1, shrinking=True, tol=0.001, verbose=False)"
            ]
          },
          "metadata": {},
          "execution_count": 23
        }
      ]
    },
    {
      "cell_type": "code",
      "metadata": {
        "colab": {
          "base_uri": "https://localhost:8080/"
        },
        "id": "VKpkd7oHArwH",
        "outputId": "c01688a4-e9ea-4d99-e71c-fc4097fbf6cd"
      },
      "source": [
        "svr.score(X_test, y_test)"
      ],
      "execution_count": 24,
      "outputs": [
        {
          "output_type": "execute_result",
          "data": {
            "text/plain": [
              "-0.1648371435333038"
            ]
          },
          "metadata": {},
          "execution_count": 24
        }
      ]
    },
    {
      "cell_type": "code",
      "metadata": {
        "id": "Inf1lapxBbl1"
      },
      "source": [
        "Svr_predict = svr.predict(X_test)"
      ],
      "execution_count": 25,
      "outputs": []
    },
    {
      "cell_type": "code",
      "metadata": {
        "colab": {
          "base_uri": "https://localhost:8080/",
          "height": 294
        },
        "id": "EcX_HuOYBocX",
        "outputId": "ed605164-4ccb-451f-87b6-8ce258b9d6f8"
      },
      "source": [
        "#Plot using SVR\n",
        "plt.scatter(X, y)\n",
        "plt.plot(X_test, Svr_predict, color = 'm')"
      ],
      "execution_count": 29,
      "outputs": [
        {
          "output_type": "execute_result",
          "data": {
            "text/plain": [
              "[<matplotlib.lines.Line2D at 0x7fc51868da90>]"
            ]
          },
          "metadata": {},
          "execution_count": 29
        },
        {
          "output_type": "display_data",
          "data": {
            "image/png": "[encoded data removed]",
            "text/plain": [
              "<Figure size 432x288 with 1 Axes>"
            ]
          },
          "metadata": {
            "needs_background": "light"
          }
        }
      ]
    },
    {
      "cell_type": "code",
      "metadata": {
        "colab": {
          "base_uri": "https://localhost:8080/",
          "height": 294
        },
        "id": "-hKWZT-YBP_X",
        "outputId": "ff8da971-05ac-407f-b9bb-d43426c4014b"
      },
      "source": [
        "#Plot using Linreg\n",
        "linreg = LinearRegression()\n",
        "\n",
        "plt.scatter(X, y)\n",
        "plt.plot(X, linreg.fit(X, y).predict(X), color = 'm')"
      ],
      "execution_count": 31,
      "outputs": [
        {
          "output_type": "execute_result",
          "data": {
            "text/plain": [
              "[<matplotlib.lines.Line2D at 0x7fc5165368d0>]"
            ]
          },
          "metadata": {},
          "execution_count": 31
        },
        {
          "output_type": "display_data",
          "data": {
            "image/png": "[encoded data removed]",
            "text/plain": [
              "<Figure size 432x288 with 1 Axes>"
            ]
          },
          "metadata": {
            "needs_background": "light"
          }
        }
      ]
    },
    {
      "cell_type": "code",
      "metadata": {
        "colab": {
          "base_uri": "https://localhost:8080/"
        },
        "id": "eCzx8FFYFCrt",
        "outputId": "87896483-edc2-4cb4-9a0e-d6f35143735a"
      },
      "source": [
        "linreg.score(X, y)"
      ],
      "execution_count": 32,
      "outputs": [
        {
          "output_type": "execute_result",
          "data": {
            "text/plain": [
              "0.6357611420157273"
            ]
          },
          "metadata": {},
          "execution_count": 32
        }
      ]
    },
    {
      "cell_type": "markdown",
      "metadata": {
        "id": "fOEsGCOKFQcz"
      },
      "source": [
        "Using SVR, the model is unable to find the best fit from the data."
      ]
    },
    {
      "cell_type": "markdown",
      "metadata": {
        "id": "Mpubj2VRFK9K"
      },
      "source": [
        "\n",
        "\n",
        "---\n",
        "\n",
        "**End Of Analysis**\n"
      ]
    },
    {
      "cell_type": "code",
      "metadata": {
        "id": "go7GKSdYvL1Y"
      },
      "source": [
        "#Unused Code\n",
        "if(len(prices) == len(luasTanahs)):\n",
        "    \n",
        "    print('jumlah rumah yang dijual ', len(prices)+errorcounts)\n",
        "    print('Harga termahal ', max(prices), 'dan termurah', min(prices))\n",
        "    \n",
        "    data_tanah_price = np.array((luasTanahs, prices))\n",
        "    \n",
        "    scaler.fit(data_tanah_price)\n",
        "    data_tanah_price = scaler.transform(data_tanah_price)\n",
        "    \n",
        "    land_size = data_tanah_price[0,:]\n",
        "    house_price = data_tanah_price[1,:]\n",
        "    print(land_size)\n",
        "    print(house_price)\n",
        "    \n",
        "    #menampilkan scatter plot dari dataset\n",
        "    #x,y\n",
        "    #plt.scatter(land_size, house_price)\n",
        "    \n",
        "    #Latih model dengan linear regression fit()\n",
        "    linreg = LinearRegression()\n",
        "    X_train = X_train.reshape(-1, 1)\n",
        "    X_test = X_test.reshape(-1, 1)\n",
        "    linreg.fit(X_train, y_train)\n",
        "    price_predict = linreg.predict(X_test)\n",
        "    \n",
        "    # menampilkan plot hubungan antara jumlah kamar dengan harga rumah\n",
        "    plt.scatter(land_size, house_price)\n",
        "    plt.plot(land_size, price_predict)\n",
        "    \n",
        "else:\n",
        "    print(\"Price and Land Size not same size\")"
      ],
      "execution_count": null,
      "outputs": []
    }
  ]
}